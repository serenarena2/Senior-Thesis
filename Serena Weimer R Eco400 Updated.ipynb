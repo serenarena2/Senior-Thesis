{
 "cells": [
  {
   "cell_type": "markdown",
   "metadata": {},
   "source": [
    "\n",
    "Serena Weimer\n",
    "\n",
    "\n",
    "December 2, 2020"
   ]
  },
  {
   "cell_type": "code",
   "execution_count": 7,
   "metadata": {},
   "outputs": [],
   "source": [
    "suppressPackageStartupMessages({\n",
    "    library(dplyr)\n",
    "    library(tidyverse)\n",
    "    library(WDI)\n",
    "    library(plm)\n",
    "    library(estimatr)\n",
    "    library(lmtest)\n",
    "    library(corrplot)\n",
    "    library(stargazer)\n",
    "    library(RColorBrewer)\n",
    "    library(Hmisc)\n",
    "    library(sandwich)\n",
    "    library(car)\n",
    "})"
   ]
  },
  {
   "cell_type": "code",
   "execution_count": 8,
   "metadata": {
    "scrolled": true
   },
   "outputs": [],
   "source": [
    "#connecting to my path\n",
    "setwd('C:/Users/seren/OneDrive/Desktop/SustainDevel_project/')\n",
    "#calling my csv file and naming it data, and printing it\n",
    "data1 <- read.csv('alldata_final.csv')\n",
    "#droping columns\n",
    "data = subset(data1, select = -c(X,GDP_Growth) )"
   ]
  },
  {
   "cell_type": "code",
   "execution_count": 10,
   "metadata": {},
   "outputs": [
    {
     "name": "stdout",
     "output_type": "stream",
     "text": [
      "\n",
      "Table 2: Results\n",
      "==================================================================================================================================\n",
      "                                                                        Dependent variable:                                       \n",
      "                                 -------------------------------------------------------------------------------------------------\n",
      "                                                                          log(GDP_PerCap)                                         \n",
      "                                           OLS                                             panel                                  \n",
      "                                                                                           linear                                 \n",
      "                                           (1)                      (2)                      (3)                     (4)          \n",
      "----------------------------------------------------------------------------------------------------------------------------------\n",
      "Greenhouse Gas Emissions                -0.00004*                0.0002***                0.0002***               0.0002***       \n",
      "                                        (0.00002)                (0.00004)                (0.00003)               (0.00002)       \n",
      "Average Total Years of School            0.137***                 0.206***                  0.008                   0.008         \n",
      "                                         (0.013)                  (0.021)                  (0.018)                 (0.033)        \n",
      "Meduim/High Tech Industry                0.017***                 0.006***                  0.002                   0.002         \n",
      "                                         (0.002)                  (0.002)                  (0.001)                 (0.002)        \n",
      "Umemployed                                0.003                  -0.021***                -0.025***               -0.025***       \n",
      "                                         (0.005)                  (0.003)                  (0.002)                 (0.005)        \n",
      "Female Labor Force Participation         0.010***                 0.009**                  -0.004                  -0.004         \n",
      "                                         (0.002)                  (0.004)                  (0.003)                 (0.005)        \n",
      "Gini Index                                0.002                  -0.028***                -0.017***               -0.017***       \n",
      "                                         (0.003)                  (0.004)                  (0.003)                 (0.006)        \n",
      "Natural Disaster Deaths                  -0.00001                -0.00000**               -0.00000                -0.00000*       \n",
      "                                        (0.00000)                (0.00000)                (0.00000)               (0.00000)       \n",
      "Renewable Energy                          -0.118                 -1.560***                -1.719***               -1.719***       \n",
      "                                         (0.119)                  (0.221)                  (0.159)                 (0.380)        \n",
      "Life Expectancy Rate                     0.121***                 0.076***                 0.011*                   0.011         \n",
      "                                         (0.005)                  (0.006)                  (0.006)                 (0.012)        \n",
      "Constant                                -2.308***                                                                                 \n",
      "                                         (0.369)                                                                                  \n",
      "----------------------------------------------------------------------------------------------------------------------------------\n",
      "Observations                               887                      887                      887                     887          \n",
      "R2                                        0.781                    0.585                    0.375                   0.375         \n",
      "Adjusted R2                               0.779                    0.518                    0.262                   0.262         \n",
      "Residual Std. Error                  0.652 (df = 877)                                                                             \n",
      "F Statistic                      348.071*** (df = 9; 877) 119.475*** (df = 9; 763) 50.039*** (df = 9; 750) 50.039*** (df = 9; 750)\n",
      "==================================================================================================================================\n",
      "Note:                                                                                                  *p<0.1; **p<0.05; ***p<0.01\n",
      "                                                                                                                       ()std.error\n"
     ]
    }
   ],
   "source": [
    "base <- plm(log(GDP_PerCap) ~ GHG + AvgTotYrs_School + MedHighTech + Unemploy + FemLF_Partici + Gini + NatDis_Death + Renewables + Life_Expect, data = data, index = c(\"Code\", \"Year\"), model = \"within\")\n",
    "#running a regression with oneway fixed effects on my panel data \n",
    "base1 <- lm(log(GDP_PerCap) ~ GHG + AvgTotYrs_School + MedHighTech + Unemploy + FemLF_Partici + Gini + NatDis_Death + Renewables + Life_Expect, data = data)\n",
    "#running a regression with twoway fixed effects on my panel data\n",
    "regress2 <- plm(log(GDP_PerCap) ~ GHG + AvgTotYrs_School + MedHighTech + Unemploy + FemLF_Partici + NatDis_Death + Gini + Renewables + Life_Expect, data = data, index = c(\"Code\", \"Year\"), effect= \"twoways\", model = \"within\")\n",
    "regress3 <- plm(log(GDP_PerCap) ~ GHG + AvgTotYrs_School + MedHighTech + Unemploy + FemLF_Partici + NatDis_Death + Gini + Renewables + Life_Expect, data = data, index = c(\"Code\", \"Year\"), effect= \"twoways\", model = \"within\")\n",
    "clust <- vcovHC(regress3, type = \"HC1\", cluster = \"group\")\n",
    "clust1 <- sqrt(diag(clust))\n",
    "#https://cran.r-project.org/web/packages/stargazer/vignettes/stargazer.pdf\n",
    "#clustered standard error grouped by years\n",
    "\n",
    "stargazer(base1, base, regress2, regress3, type = \"text\",  se = list(NULL, NULL, NULL, clust1), single.row = FALSE, align=TRUE,\n",
    "    covariate.labels=c(\"Greenhouse Gas Emissions\",\"Average Total Years of School\",\n",
    "    \"Meduim/High Tech Industry\",\"Umemployed\",\"Female Labor Force Participation\",\"Gini Index\",\n",
    "    \"Natural Disaster Deaths\", \"Renewable Energy\",\"Life Expectancy Rate\"), no.space=TRUE, \n",
    "    title = \"Table 2: Results\", notes = \"()std.error\", out = \"C:/Users/seren/OneDrive/Desktop/SustainDevel_project/table2.html\")"
   ]
  },
  {
   "cell_type": "code",
   "execution_count": 11,
   "metadata": {},
   "outputs": [
    {
     "name": "stdout",
     "output_type": "stream",
     "text": [
      "\n",
      "Table 1: Descriptive Statistics\n",
      "=====================================================================================\n",
      "Statistic          N      Mean     St. Dev.    Min   Pctl(25)   Pctl(75)      Max    \n",
      "-------------------------------------------------------------------------------------\n",
      "Year             2,702 2,009.500    4.032     2,003    2,006     2,013       2,016   \n",
      "GHG              2,702  486.879   3,418.397  -85.620   8.275    146.925   49,854.980 \n",
      "GDP_PerCap       2,622 12,825.010 19,924.900 113.567 1,359.255 14,380.200 178,845.600\n",
      "AvgTotYrs_School 2,562   7.955      3.155     1.200    5.400     10.700     14.100   \n",
      "Unemploy         2,380   7.849      6.032     0.317    3.785     9.996      37.250   \n",
      "MedHighTech      2,058   23.697     17.165    0.260    9.207     36.643     88.037   \n",
      "FemLF_Partici    2,492   51.199     15.839    5.995   43.308     60.980     87.682   \n",
      "NatDis_Death     2,576  372.670   6,608.636   0.000    0.000     16.000   222,658.300\n",
      "Gini             1,024   37.298     8.466    23.700   30.800     42.725     64.800   \n",
      "Life_Expect      2,577   69.699     9.067    42.419   63.951     76.057     83.985   \n",
      "Renewables       2,271   0.169      0.190    -0.079    0.021     0.245       0.907   \n",
      "-------------------------------------------------------------------------------------\n"
     ]
    }
   ],
   "source": [
    "stargazer(data, type=\"text\", title=\"Table 1: Descriptive Statistics\", out = \"C:/Users/seren/OneDrive/Desktop/SustainDevel_project/table1.html\")"
   ]
  },
  {
   "cell_type": "code",
   "execution_count": 13,
   "metadata": {
    "scrolled": true
   },
   "outputs": [
    {
     "data": {
      "text/plain": [
       "\n",
       "\tstudentized Breusch-Pagan test\n",
       "\n",
       "data:  base1\n",
       "BP = 150.81, df = 9, p-value < 2.2e-16\n"
      ]
     },
     "metadata": {},
     "output_type": "display_data"
    }
   ],
   "source": [
    "bptest(base1)"
   ]
  },
  {
   "cell_type": "code",
   "execution_count": 6,
   "metadata": {},
   "outputs": [
    {
     "data": {
      "text/html": [
       "<strong>png:</strong> 2"
      ],
      "text/latex": [
       "\\textbf{png:} 2"
      ],
      "text/markdown": [
       "**png:** 2"
      ],
      "text/plain": [
       "png \n",
       "  2 "
      ]
     },
     "metadata": {},
     "output_type": "display_data"
    }
   ],
   "source": [
    "d <- data$GDP_PerCap\n",
    "jpeg('rplot.jpg')\n",
    "par(mfrow=c(1,2)) \n",
    "hist(d, main=\"\",\n",
    "xlab=\"GDP Per Capita\")\n",
    "hist(log(d), main=\"\",\n",
    "xlab=\"log(GDP Per Capita)\")\n",
    "dev.off()"
   ]
  }
 ],
 "metadata": {
  "kernelspec": {
   "display_name": "R",
   "language": "R",
   "name": "ir"
  },
  "language_info": {
   "codemirror_mode": "r",
   "file_extension": ".r",
   "mimetype": "text/x-r-source",
   "name": "R",
   "pygments_lexer": "r",
   "version": "3.6.1"
  }
 },
 "nbformat": 4,
 "nbformat_minor": 4
}
